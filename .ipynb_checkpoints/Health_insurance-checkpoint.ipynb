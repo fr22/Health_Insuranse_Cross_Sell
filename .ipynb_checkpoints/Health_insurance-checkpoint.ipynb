{
 "cells": [
  {
   "cell_type": "markdown",
   "id": "0a3fa8d8-2f30-4e97-af83-bb6fb4fdfff6",
   "metadata": {},
   "source": [
    "# 0.0 Imports"
   ]
  },
  {
   "cell_type": "code",
   "execution_count": 16,
   "id": "6e904447-d4a3-4d6b-886a-49f0503778f1",
   "metadata": {},
   "outputs": [],
   "source": [
    "import pandas as pd\n",
    "import seaborn as sns\n",
    "import matplotlib.pyplot as plt\n",
    "import inflection"
   ]
  },
  {
   "cell_type": "code",
   "execution_count": 44,
   "id": "05206614-7279-4fd3-8760-73bde535740c",
   "metadata": {},
   "outputs": [],
   "source": [
    "# ajuste de layout de gráficos\n",
    "plt.style.use('bmh')\n",
    "plt.rcParams.update({\n",
    "    'figure.autolayout': True,\n",
    "    'axes.titlepad': 10,\n",
    "    'axes.labelpad': 8\n",
    "})\n",
    "sns.set()"
   ]
  },
  {
   "cell_type": "markdown",
   "id": "26a9f449-32ad-412d-88f7-41dd89522739",
   "metadata": {},
   "source": [
    "# 1.0 Descrição dos dados"
   ]
  },
  {
   "cell_type": "code",
   "execution_count": 45,
   "id": "5454944c-ae7b-4600-8d0e-193dc1341051",
   "metadata": {
    "scrolled": true
   },
   "outputs": [
    {
     "data": {
      "text/html": [
       "<div>\n",
       "<style scoped>\n",
       "    .dataframe tbody tr th:only-of-type {\n",
       "        vertical-align: middle;\n",
       "    }\n",
       "\n",
       "    .dataframe tbody tr th {\n",
       "        vertical-align: top;\n",
       "    }\n",
       "\n",
       "    .dataframe thead th {\n",
       "        text-align: right;\n",
       "    }\n",
       "</style>\n",
       "<table border=\"1\" class=\"dataframe\">\n",
       "  <thead>\n",
       "    <tr style=\"text-align: right;\">\n",
       "      <th></th>\n",
       "      <th>id</th>\n",
       "      <th>Gender</th>\n",
       "      <th>Age</th>\n",
       "      <th>Driving_License</th>\n",
       "      <th>Region_Code</th>\n",
       "      <th>Previously_Insured</th>\n",
       "      <th>Vehicle_Age</th>\n",
       "      <th>Vehicle_Damage</th>\n",
       "      <th>Annual_Premium</th>\n",
       "      <th>Policy_Sales_Channel</th>\n",
       "      <th>Vintage</th>\n",
       "      <th>Response</th>\n",
       "    </tr>\n",
       "  </thead>\n",
       "  <tbody>\n",
       "    <tr>\n",
       "      <th>0</th>\n",
       "      <td>1</td>\n",
       "      <td>Male</td>\n",
       "      <td>44</td>\n",
       "      <td>1</td>\n",
       "      <td>28.0</td>\n",
       "      <td>0</td>\n",
       "      <td>&gt; 2 Years</td>\n",
       "      <td>Yes</td>\n",
       "      <td>40454.0</td>\n",
       "      <td>26.0</td>\n",
       "      <td>217</td>\n",
       "      <td>1</td>\n",
       "    </tr>\n",
       "    <tr>\n",
       "      <th>1</th>\n",
       "      <td>2</td>\n",
       "      <td>Male</td>\n",
       "      <td>76</td>\n",
       "      <td>1</td>\n",
       "      <td>3.0</td>\n",
       "      <td>0</td>\n",
       "      <td>1-2 Year</td>\n",
       "      <td>No</td>\n",
       "      <td>33536.0</td>\n",
       "      <td>26.0</td>\n",
       "      <td>183</td>\n",
       "      <td>0</td>\n",
       "    </tr>\n",
       "    <tr>\n",
       "      <th>2</th>\n",
       "      <td>3</td>\n",
       "      <td>Male</td>\n",
       "      <td>47</td>\n",
       "      <td>1</td>\n",
       "      <td>28.0</td>\n",
       "      <td>0</td>\n",
       "      <td>&gt; 2 Years</td>\n",
       "      <td>Yes</td>\n",
       "      <td>38294.0</td>\n",
       "      <td>26.0</td>\n",
       "      <td>27</td>\n",
       "      <td>1</td>\n",
       "    </tr>\n",
       "    <tr>\n",
       "      <th>3</th>\n",
       "      <td>4</td>\n",
       "      <td>Male</td>\n",
       "      <td>21</td>\n",
       "      <td>1</td>\n",
       "      <td>11.0</td>\n",
       "      <td>1</td>\n",
       "      <td>&lt; 1 Year</td>\n",
       "      <td>No</td>\n",
       "      <td>28619.0</td>\n",
       "      <td>152.0</td>\n",
       "      <td>203</td>\n",
       "      <td>0</td>\n",
       "    </tr>\n",
       "    <tr>\n",
       "      <th>4</th>\n",
       "      <td>5</td>\n",
       "      <td>Female</td>\n",
       "      <td>29</td>\n",
       "      <td>1</td>\n",
       "      <td>41.0</td>\n",
       "      <td>1</td>\n",
       "      <td>&lt; 1 Year</td>\n",
       "      <td>No</td>\n",
       "      <td>27496.0</td>\n",
       "      <td>152.0</td>\n",
       "      <td>39</td>\n",
       "      <td>0</td>\n",
       "    </tr>\n",
       "  </tbody>\n",
       "</table>\n",
       "</div>"
      ],
      "text/plain": [
       "   id  Gender  Age  Driving_License  Region_Code  Previously_Insured  \\\n",
       "0   1    Male   44                1         28.0                   0   \n",
       "1   2    Male   76                1          3.0                   0   \n",
       "2   3    Male   47                1         28.0                   0   \n",
       "3   4    Male   21                1         11.0                   1   \n",
       "4   5  Female   29                1         41.0                   1   \n",
       "\n",
       "  Vehicle_Age Vehicle_Damage  Annual_Premium  Policy_Sales_Channel  Vintage  \\\n",
       "0   > 2 Years            Yes         40454.0                  26.0      217   \n",
       "1    1-2 Year             No         33536.0                  26.0      183   \n",
       "2   > 2 Years            Yes         38294.0                  26.0       27   \n",
       "3    < 1 Year             No         28619.0                 152.0      203   \n",
       "4    < 1 Year             No         27496.0                 152.0       39   \n",
       "\n",
       "   Response  \n",
       "0         1  \n",
       "1         0  \n",
       "2         1  \n",
       "3         0  \n",
       "4         0  "
      ]
     },
     "execution_count": 45,
     "metadata": {},
     "output_type": "execute_result"
    }
   ],
   "source": [
    "# leitura dos dados\n",
    "df_raw = pd.read_csv('data/train.csv')\n",
    "df1 = df_raw.copy()\n",
    "df1.head()"
   ]
  },
  {
   "cell_type": "code",
   "execution_count": 46,
   "id": "fb2888f9-e241-45c6-8534-b999e3ea8061",
   "metadata": {},
   "outputs": [
    {
     "data": {
      "text/plain": [
       "Index(['id', 'gender', 'age', 'driving_license', 'region_code',\n",
       "       'previously_insured', 'vehicle_age', 'vehicle_damage', 'annual_premium',\n",
       "       'policy_sales_channel', 'vintage', 'response'],\n",
       "      dtype='object')"
      ]
     },
     "execution_count": 46,
     "metadata": {},
     "output_type": "execute_result"
    }
   ],
   "source": [
    "# renomear colunas\n",
    "cols_old = list(df1.columns)\n",
    "cols_new =  list(map(lambda x: inflection.underscore(x), cols_old))\n",
    "df1.columns = cols_new\n",
    "df1.columns"
   ]
  },
  {
   "cell_type": "code",
   "execution_count": 47,
   "id": "4b4d02df-cd90-4ff9-a230-bb415e89712f",
   "metadata": {},
   "outputs": [
    {
     "data": {
      "text/plain": [
       "(381109, 12)"
      ]
     },
     "execution_count": 47,
     "metadata": {},
     "output_type": "execute_result"
    }
   ],
   "source": [
    "# Dimensões\n",
    "df1.shape"
   ]
  },
  {
   "cell_type": "code",
   "execution_count": 48,
   "id": "f0f74966-1c0a-49b6-aec4-9bc7d11b957c",
   "metadata": {},
   "outputs": [
    {
     "data": {
      "text/plain": [
       "id                      0\n",
       "gender                  0\n",
       "age                     0\n",
       "driving_license         0\n",
       "region_code             0\n",
       "previously_insured      0\n",
       "vehicle_age             0\n",
       "vehicle_damage          0\n",
       "annual_premium          0\n",
       "policy_sales_channel    0\n",
       "vintage                 0\n",
       "response                0\n",
       "dtype: int64"
      ]
     },
     "execution_count": 48,
     "metadata": {},
     "output_type": "execute_result"
    }
   ],
   "source": [
    "# dados faltantes\n",
    "df1.isna().sum()"
   ]
  },
  {
   "cell_type": "code",
   "execution_count": 49,
   "id": "5531c06a-a7d3-497b-b8e3-c4871f8cc391",
   "metadata": {},
   "outputs": [
    {
     "data": {
      "text/plain": [
       "id                        int64\n",
       "gender                   object\n",
       "age                       int64\n",
       "driving_license           int64\n",
       "region_code             float64\n",
       "previously_insured        int64\n",
       "vehicle_age              object\n",
       "vehicle_damage           object\n",
       "annual_premium          float64\n",
       "policy_sales_channel    float64\n",
       "vintage                   int64\n",
       "response                  int64\n",
       "dtype: object"
      ]
     },
     "execution_count": 49,
     "metadata": {},
     "output_type": "execute_result"
    }
   ],
   "source": [
    "# tipos\n",
    "df1.dtypes"
   ]
  },
  {
   "cell_type": "markdown",
   "id": "6b257547-97b0-438e-83cb-e8fe4f1ac127",
   "metadata": {},
   "source": [
    "## 1.1 Separação de numéricos e categóricos"
   ]
  },
  {
   "cell_type": "code",
   "execution_count": 50,
   "id": "82cd6648-e7fd-4e5c-ba14-3df93834c9bd",
   "metadata": {},
   "outputs": [
    {
     "data": {
      "text/html": [
       "<div>\n",
       "<style scoped>\n",
       "    .dataframe tbody tr th:only-of-type {\n",
       "        vertical-align: middle;\n",
       "    }\n",
       "\n",
       "    .dataframe tbody tr th {\n",
       "        vertical-align: top;\n",
       "    }\n",
       "\n",
       "    .dataframe thead th {\n",
       "        text-align: right;\n",
       "    }\n",
       "</style>\n",
       "<table border=\"1\" class=\"dataframe\">\n",
       "  <thead>\n",
       "    <tr style=\"text-align: right;\">\n",
       "      <th></th>\n",
       "      <th>id</th>\n",
       "      <th>age</th>\n",
       "      <th>driving_license</th>\n",
       "      <th>region_code</th>\n",
       "      <th>previously_insured</th>\n",
       "      <th>annual_premium</th>\n",
       "      <th>policy_sales_channel</th>\n",
       "      <th>vintage</th>\n",
       "      <th>response</th>\n",
       "    </tr>\n",
       "  </thead>\n",
       "  <tbody>\n",
       "    <tr>\n",
       "      <th>0</th>\n",
       "      <td>1</td>\n",
       "      <td>44</td>\n",
       "      <td>1</td>\n",
       "      <td>28.0</td>\n",
       "      <td>0</td>\n",
       "      <td>40454.0</td>\n",
       "      <td>26.0</td>\n",
       "      <td>217</td>\n",
       "      <td>1</td>\n",
       "    </tr>\n",
       "  </tbody>\n",
       "</table>\n",
       "</div>"
      ],
      "text/plain": [
       "   id  age  driving_license  region_code  previously_insured  annual_premium  \\\n",
       "0   1   44                1         28.0                   0         40454.0   \n",
       "\n",
       "   policy_sales_channel  vintage  response  \n",
       "0                  26.0      217         1  "
      ]
     },
     "execution_count": 50,
     "metadata": {},
     "output_type": "execute_result"
    }
   ],
   "source": [
    "#dados numéricos\n",
    "df_num = df1.select_dtypes(exclude='object')\n",
    "df_num.head(1)"
   ]
  },
  {
   "cell_type": "code",
   "execution_count": 51,
   "id": "1eadf922-a923-408e-bd38-d0a1e5d58a4f",
   "metadata": {},
   "outputs": [
    {
     "data": {
      "text/html": [
       "<div>\n",
       "<style scoped>\n",
       "    .dataframe tbody tr th:only-of-type {\n",
       "        vertical-align: middle;\n",
       "    }\n",
       "\n",
       "    .dataframe tbody tr th {\n",
       "        vertical-align: top;\n",
       "    }\n",
       "\n",
       "    .dataframe thead th {\n",
       "        text-align: right;\n",
       "    }\n",
       "</style>\n",
       "<table border=\"1\" class=\"dataframe\">\n",
       "  <thead>\n",
       "    <tr style=\"text-align: right;\">\n",
       "      <th></th>\n",
       "      <th>gender</th>\n",
       "      <th>vehicle_age</th>\n",
       "      <th>vehicle_damage</th>\n",
       "    </tr>\n",
       "  </thead>\n",
       "  <tbody>\n",
       "    <tr>\n",
       "      <th>0</th>\n",
       "      <td>Male</td>\n",
       "      <td>&gt; 2 Years</td>\n",
       "      <td>Yes</td>\n",
       "    </tr>\n",
       "  </tbody>\n",
       "</table>\n",
       "</div>"
      ],
      "text/plain": [
       "  gender vehicle_age vehicle_damage\n",
       "0   Male   > 2 Years            Yes"
      ]
     },
     "execution_count": 51,
     "metadata": {},
     "output_type": "execute_result"
    }
   ],
   "source": [
    "# dados categóricos\n",
    "df_cat = df1.select_dtypes(include='object')\n",
    "df_cat.head(1)"
   ]
  },
  {
   "cell_type": "markdown",
   "id": "732c3b03-2109-474e-ac07-13e644e58c97",
   "metadata": {},
   "source": [
    "## 1.2 Estatística descritiva"
   ]
  },
  {
   "cell_type": "markdown",
   "id": "073d92bc-5565-407e-8135-d35a4afd349e",
   "metadata": {},
   "source": [
    "### 1.2.1 Dados numéricos"
   ]
  },
  {
   "cell_type": "code",
   "execution_count": 52,
   "id": "8e27d58d-4d98-4451-8b6d-c0ba4eb0e563",
   "metadata": {
    "scrolled": true
   },
   "outputs": [
    {
     "data": {
      "text/html": [
       "<div>\n",
       "<style scoped>\n",
       "    .dataframe tbody tr th:only-of-type {\n",
       "        vertical-align: middle;\n",
       "    }\n",
       "\n",
       "    .dataframe tbody tr th {\n",
       "        vertical-align: top;\n",
       "    }\n",
       "\n",
       "    .dataframe thead th {\n",
       "        text-align: right;\n",
       "    }\n",
       "</style>\n",
       "<table border=\"1\" class=\"dataframe\">\n",
       "  <thead>\n",
       "    <tr style=\"text-align: right;\">\n",
       "      <th></th>\n",
       "      <th>count</th>\n",
       "      <th>mean</th>\n",
       "      <th>std</th>\n",
       "      <th>min</th>\n",
       "      <th>25%</th>\n",
       "      <th>50%</th>\n",
       "      <th>75%</th>\n",
       "      <th>max</th>\n",
       "    </tr>\n",
       "  </thead>\n",
       "  <tbody>\n",
       "    <tr>\n",
       "      <th>id</th>\n",
       "      <td>381109.0</td>\n",
       "      <td>190555.000000</td>\n",
       "      <td>110016.836208</td>\n",
       "      <td>1.0</td>\n",
       "      <td>95278.0</td>\n",
       "      <td>190555.0</td>\n",
       "      <td>285832.0</td>\n",
       "      <td>381109.0</td>\n",
       "    </tr>\n",
       "    <tr>\n",
       "      <th>age</th>\n",
       "      <td>381109.0</td>\n",
       "      <td>38.822584</td>\n",
       "      <td>15.511611</td>\n",
       "      <td>20.0</td>\n",
       "      <td>25.0</td>\n",
       "      <td>36.0</td>\n",
       "      <td>49.0</td>\n",
       "      <td>85.0</td>\n",
       "    </tr>\n",
       "    <tr>\n",
       "      <th>driving_license</th>\n",
       "      <td>381109.0</td>\n",
       "      <td>0.997869</td>\n",
       "      <td>0.046110</td>\n",
       "      <td>0.0</td>\n",
       "      <td>1.0</td>\n",
       "      <td>1.0</td>\n",
       "      <td>1.0</td>\n",
       "      <td>1.0</td>\n",
       "    </tr>\n",
       "    <tr>\n",
       "      <th>region_code</th>\n",
       "      <td>381109.0</td>\n",
       "      <td>26.388807</td>\n",
       "      <td>13.229888</td>\n",
       "      <td>0.0</td>\n",
       "      <td>15.0</td>\n",
       "      <td>28.0</td>\n",
       "      <td>35.0</td>\n",
       "      <td>52.0</td>\n",
       "    </tr>\n",
       "    <tr>\n",
       "      <th>previously_insured</th>\n",
       "      <td>381109.0</td>\n",
       "      <td>0.458210</td>\n",
       "      <td>0.498251</td>\n",
       "      <td>0.0</td>\n",
       "      <td>0.0</td>\n",
       "      <td>0.0</td>\n",
       "      <td>1.0</td>\n",
       "      <td>1.0</td>\n",
       "    </tr>\n",
       "    <tr>\n",
       "      <th>annual_premium</th>\n",
       "      <td>381109.0</td>\n",
       "      <td>30564.389581</td>\n",
       "      <td>17213.155057</td>\n",
       "      <td>2630.0</td>\n",
       "      <td>24405.0</td>\n",
       "      <td>31669.0</td>\n",
       "      <td>39400.0</td>\n",
       "      <td>540165.0</td>\n",
       "    </tr>\n",
       "    <tr>\n",
       "      <th>policy_sales_channel</th>\n",
       "      <td>381109.0</td>\n",
       "      <td>112.034295</td>\n",
       "      <td>54.203995</td>\n",
       "      <td>1.0</td>\n",
       "      <td>29.0</td>\n",
       "      <td>133.0</td>\n",
       "      <td>152.0</td>\n",
       "      <td>163.0</td>\n",
       "    </tr>\n",
       "    <tr>\n",
       "      <th>vintage</th>\n",
       "      <td>381109.0</td>\n",
       "      <td>154.347397</td>\n",
       "      <td>83.671304</td>\n",
       "      <td>10.0</td>\n",
       "      <td>82.0</td>\n",
       "      <td>154.0</td>\n",
       "      <td>227.0</td>\n",
       "      <td>299.0</td>\n",
       "    </tr>\n",
       "    <tr>\n",
       "      <th>response</th>\n",
       "      <td>381109.0</td>\n",
       "      <td>0.122563</td>\n",
       "      <td>0.327936</td>\n",
       "      <td>0.0</td>\n",
       "      <td>0.0</td>\n",
       "      <td>0.0</td>\n",
       "      <td>0.0</td>\n",
       "      <td>1.0</td>\n",
       "    </tr>\n",
       "  </tbody>\n",
       "</table>\n",
       "</div>"
      ],
      "text/plain": [
       "                         count           mean            std     min      25%  \\\n",
       "id                    381109.0  190555.000000  110016.836208     1.0  95278.0   \n",
       "age                   381109.0      38.822584      15.511611    20.0     25.0   \n",
       "driving_license       381109.0       0.997869       0.046110     0.0      1.0   \n",
       "region_code           381109.0      26.388807      13.229888     0.0     15.0   \n",
       "previously_insured    381109.0       0.458210       0.498251     0.0      0.0   \n",
       "annual_premium        381109.0   30564.389581   17213.155057  2630.0  24405.0   \n",
       "policy_sales_channel  381109.0     112.034295      54.203995     1.0     29.0   \n",
       "vintage               381109.0     154.347397      83.671304    10.0     82.0   \n",
       "response              381109.0       0.122563       0.327936     0.0      0.0   \n",
       "\n",
       "                           50%       75%       max  \n",
       "id                    190555.0  285832.0  381109.0  \n",
       "age                       36.0      49.0      85.0  \n",
       "driving_license            1.0       1.0       1.0  \n",
       "region_code               28.0      35.0      52.0  \n",
       "previously_insured         0.0       1.0       1.0  \n",
       "annual_premium         31669.0   39400.0  540165.0  \n",
       "policy_sales_channel     133.0     152.0     163.0  \n",
       "vintage                  154.0     227.0     299.0  \n",
       "response                   0.0       0.0       1.0  "
      ]
     },
     "execution_count": 52,
     "metadata": {},
     "output_type": "execute_result"
    }
   ],
   "source": [
    "stats = df_num.describe().T\n",
    "stats"
   ]
  },
  {
   "cell_type": "code",
   "execution_count": 53,
   "id": "229be952-258b-4eee-bd16-a55543b98ad3",
   "metadata": {},
   "outputs": [
    {
     "data": {
      "text/html": [
       "<div>\n",
       "<style scoped>\n",
       "    .dataframe tbody tr th:only-of-type {\n",
       "        vertical-align: middle;\n",
       "    }\n",
       "\n",
       "    .dataframe tbody tr th {\n",
       "        vertical-align: top;\n",
       "    }\n",
       "\n",
       "    .dataframe thead th {\n",
       "        text-align: right;\n",
       "    }\n",
       "</style>\n",
       "<table border=\"1\" class=\"dataframe\">\n",
       "  <thead>\n",
       "    <tr style=\"text-align: right;\">\n",
       "      <th></th>\n",
       "      <th>count</th>\n",
       "      <th>mean</th>\n",
       "      <th>std</th>\n",
       "      <th>min</th>\n",
       "      <th>25%</th>\n",
       "      <th>50%</th>\n",
       "      <th>75%</th>\n",
       "      <th>max</th>\n",
       "      <th>skew</th>\n",
       "      <th>kurtosis</th>\n",
       "    </tr>\n",
       "  </thead>\n",
       "  <tbody>\n",
       "    <tr>\n",
       "      <th>id</th>\n",
       "      <td>381109.0</td>\n",
       "      <td>190555.000000</td>\n",
       "      <td>110016.836208</td>\n",
       "      <td>1.0</td>\n",
       "      <td>95278.0</td>\n",
       "      <td>190555.0</td>\n",
       "      <td>285832.0</td>\n",
       "      <td>381109.0</td>\n",
       "      <td>9.443274e-16</td>\n",
       "      <td>-1.200000</td>\n",
       "    </tr>\n",
       "    <tr>\n",
       "      <th>age</th>\n",
       "      <td>381109.0</td>\n",
       "      <td>38.822584</td>\n",
       "      <td>15.511611</td>\n",
       "      <td>20.0</td>\n",
       "      <td>25.0</td>\n",
       "      <td>36.0</td>\n",
       "      <td>49.0</td>\n",
       "      <td>85.0</td>\n",
       "      <td>6.725390e-01</td>\n",
       "      <td>-0.565655</td>\n",
       "    </tr>\n",
       "    <tr>\n",
       "      <th>driving_license</th>\n",
       "      <td>381109.0</td>\n",
       "      <td>0.997869</td>\n",
       "      <td>0.046110</td>\n",
       "      <td>0.0</td>\n",
       "      <td>1.0</td>\n",
       "      <td>1.0</td>\n",
       "      <td>1.0</td>\n",
       "      <td>1.0</td>\n",
       "      <td>-2.159518e+01</td>\n",
       "      <td>464.354302</td>\n",
       "    </tr>\n",
       "    <tr>\n",
       "      <th>region_code</th>\n",
       "      <td>381109.0</td>\n",
       "      <td>26.388807</td>\n",
       "      <td>13.229888</td>\n",
       "      <td>0.0</td>\n",
       "      <td>15.0</td>\n",
       "      <td>28.0</td>\n",
       "      <td>35.0</td>\n",
       "      <td>52.0</td>\n",
       "      <td>-1.152664e-01</td>\n",
       "      <td>-0.867857</td>\n",
       "    </tr>\n",
       "    <tr>\n",
       "      <th>previously_insured</th>\n",
       "      <td>381109.0</td>\n",
       "      <td>0.458210</td>\n",
       "      <td>0.498251</td>\n",
       "      <td>0.0</td>\n",
       "      <td>0.0</td>\n",
       "      <td>0.0</td>\n",
       "      <td>1.0</td>\n",
       "      <td>1.0</td>\n",
       "      <td>1.677471e-01</td>\n",
       "      <td>-1.971871</td>\n",
       "    </tr>\n",
       "    <tr>\n",
       "      <th>annual_premium</th>\n",
       "      <td>381109.0</td>\n",
       "      <td>30564.389581</td>\n",
       "      <td>17213.155057</td>\n",
       "      <td>2630.0</td>\n",
       "      <td>24405.0</td>\n",
       "      <td>31669.0</td>\n",
       "      <td>39400.0</td>\n",
       "      <td>540165.0</td>\n",
       "      <td>1.766087e+00</td>\n",
       "      <td>34.004569</td>\n",
       "    </tr>\n",
       "    <tr>\n",
       "      <th>policy_sales_channel</th>\n",
       "      <td>381109.0</td>\n",
       "      <td>112.034295</td>\n",
       "      <td>54.203995</td>\n",
       "      <td>1.0</td>\n",
       "      <td>29.0</td>\n",
       "      <td>133.0</td>\n",
       "      <td>152.0</td>\n",
       "      <td>163.0</td>\n",
       "      <td>-9.000081e-01</td>\n",
       "      <td>-0.970810</td>\n",
       "    </tr>\n",
       "    <tr>\n",
       "      <th>vintage</th>\n",
       "      <td>381109.0</td>\n",
       "      <td>154.347397</td>\n",
       "      <td>83.671304</td>\n",
       "      <td>10.0</td>\n",
       "      <td>82.0</td>\n",
       "      <td>154.0</td>\n",
       "      <td>227.0</td>\n",
       "      <td>299.0</td>\n",
       "      <td>3.029517e-03</td>\n",
       "      <td>-1.200688</td>\n",
       "    </tr>\n",
       "    <tr>\n",
       "      <th>response</th>\n",
       "      <td>381109.0</td>\n",
       "      <td>0.122563</td>\n",
       "      <td>0.327936</td>\n",
       "      <td>0.0</td>\n",
       "      <td>0.0</td>\n",
       "      <td>0.0</td>\n",
       "      <td>0.0</td>\n",
       "      <td>1.0</td>\n",
       "      <td>2.301906e+00</td>\n",
       "      <td>3.298788</td>\n",
       "    </tr>\n",
       "  </tbody>\n",
       "</table>\n",
       "</div>"
      ],
      "text/plain": [
       "                         count           mean            std     min      25%  \\\n",
       "id                    381109.0  190555.000000  110016.836208     1.0  95278.0   \n",
       "age                   381109.0      38.822584      15.511611    20.0     25.0   \n",
       "driving_license       381109.0       0.997869       0.046110     0.0      1.0   \n",
       "region_code           381109.0      26.388807      13.229888     0.0     15.0   \n",
       "previously_insured    381109.0       0.458210       0.498251     0.0      0.0   \n",
       "annual_premium        381109.0   30564.389581   17213.155057  2630.0  24405.0   \n",
       "policy_sales_channel  381109.0     112.034295      54.203995     1.0     29.0   \n",
       "vintage               381109.0     154.347397      83.671304    10.0     82.0   \n",
       "response              381109.0       0.122563       0.327936     0.0      0.0   \n",
       "\n",
       "                           50%       75%       max          skew    kurtosis  \n",
       "id                    190555.0  285832.0  381109.0  9.443274e-16   -1.200000  \n",
       "age                       36.0      49.0      85.0  6.725390e-01   -0.565655  \n",
       "driving_license            1.0       1.0       1.0 -2.159518e+01  464.354302  \n",
       "region_code               28.0      35.0      52.0 -1.152664e-01   -0.867857  \n",
       "previously_insured         0.0       1.0       1.0  1.677471e-01   -1.971871  \n",
       "annual_premium         31669.0   39400.0  540165.0  1.766087e+00   34.004569  \n",
       "policy_sales_channel     133.0     152.0     163.0 -9.000081e-01   -0.970810  \n",
       "vintage                  154.0     227.0     299.0  3.029517e-03   -1.200688  \n",
       "response                   0.0       0.0       1.0  2.301906e+00    3.298788  "
      ]
     },
     "execution_count": 53,
     "metadata": {},
     "output_type": "execute_result"
    }
   ],
   "source": [
    "stats['skew'] = df_num.apply(lambda x: x.skew())\n",
    "stats['kurtosis'] = df_num.apply(lambda x: x.kurtosis())\n",
    "\n",
    "stats"
   ]
  },
  {
   "cell_type": "markdown",
   "id": "12a33b42-f639-4d93-b2cf-f5f37460e9bb",
   "metadata": {},
   "source": [
    "### 1.2.2 Dados categóricos"
   ]
  },
  {
   "cell_type": "code",
   "execution_count": 54,
   "id": "e12f8d98-9596-461d-9588-533657d024b2",
   "metadata": {},
   "outputs": [
    {
     "data": {
      "text/plain": [
       "gender                             [Male, Female]\n",
       "vehicle_age       [> 2 Years, 1-2 Year, < 1 Year]\n",
       "vehicle_damage                          [Yes, No]\n",
       "dtype: object"
      ]
     },
     "execution_count": 54,
     "metadata": {},
     "output_type": "execute_result"
    }
   ],
   "source": [
    "df_cat.apply(lambda x: x.unique())"
   ]
  },
  {
   "cell_type": "markdown",
   "id": "af193937-c69f-48e4-ad0b-5769b8de17f5",
   "metadata": {},
   "source": [
    "# 2.0 Feature Engineering"
   ]
  },
  {
   "cell_type": "markdown",
   "id": "89d3258e-162b-4f43-903b-8614eaf84dad",
   "metadata": {},
   "source": [
    "# 3.0 Filtragem de variáveis"
   ]
  },
  {
   "cell_type": "markdown",
   "id": "78975a4a-4290-4eef-ac90-972091c38c3f",
   "metadata": {},
   "source": [
    "# 4.0 Análise Exploratória de Dados(EDA)"
   ]
  },
  {
   "cell_type": "markdown",
   "id": "a8d451bb-417c-4925-9445-e74aba58a595",
   "metadata": {},
   "source": [
    "### 4.0.1 Levantamento de Hipóteses"
   ]
  },
  {
   "cell_type": "markdown",
   "id": "228274ea-675c-4398-9490-c298786bb622",
   "metadata": {},
   "source": [
    "Entidades e atributos\n",
    "* Clientes\n",
    "    - gênero\n",
    "    - idade\n",
    "    - salário\n",
    "    - estado civil\n",
    "    - filhos\n",
    "    - profissão\n",
    "    - tempo segurado\n",
    "    - valor do seguro\n",
    "    - estilo de condução\n",
    "* Vendedores\n",
    "    - tempo de experiência\n",
    "    - qtd vendas\n",
    "* Veículos\n",
    "    - valor\n",
    "    - idade\n",
    "    - modelo\n",
    "    - tipo\n",
    "    - dano\n",
    "* Local\n",
    "    - IDH\n",
    "    - índice de violência\n",
    "    - valor m2\n",
    "* Tempo\n",
    "    - estação do ano"
   ]
  },
  {
   "cell_type": "markdown",
   "id": "f449675a-8fef-4f4e-99f4-53c24c89e382",
   "metadata": {},
   "source": [
    "### Hipóteses\n",
    "\n",
    "* H1 - Pessoas mais velhas são mais propensas a comprar\n",
    "* H2 - Pessoas do gênero feminino são mais propensas\n",
    "* H3 - Pessoas há mais tempo seguradas são mais propensas\n",
    "* H4 - Pessoas com maior valor de seguro são mais propensas\n",
    "* H5 - Clientes com veículos mais novos vão ter maior propensão\n",
    "* H6 - Clientes que tiveram dano no veículo têm maior propensão"
   ]
  },
  {
   "cell_type": "markdown",
   "id": "ae26c071-ae7b-4f33-8cd1-d62758206220",
   "metadata": {},
   "source": [
    "## 4.1 Análise univariada"
   ]
  },
  {
   "cell_type": "code",
   "execution_count": 55,
   "id": "a3ec1cf3-6a4b-4c92-a74d-17ae333bd9f9",
   "metadata": {},
   "outputs": [],
   "source": [
    "df4 = df1.copy()"
   ]
  },
  {
   "cell_type": "markdown",
   "id": "a6fb54f4-2b9c-445f-8f52-cadbccbdab6f",
   "metadata": {},
   "source": [
    "### 4.1.1 Variável Resposta"
   ]
  },
  {
   "cell_type": "code",
   "execution_count": 56,
   "id": "266d9c87-a565-4556-8022-5c418b8fb727",
   "metadata": {},
   "outputs": [
    {
     "data": {
      "text/html": [
       "<div>\n",
       "<style scoped>\n",
       "    .dataframe tbody tr th:only-of-type {\n",
       "        vertical-align: middle;\n",
       "    }\n",
       "\n",
       "    .dataframe tbody tr th {\n",
       "        vertical-align: top;\n",
       "    }\n",
       "\n",
       "    .dataframe thead th {\n",
       "        text-align: right;\n",
       "    }\n",
       "</style>\n",
       "<table border=\"1\" class=\"dataframe\">\n",
       "  <thead>\n",
       "    <tr style=\"text-align: right;\">\n",
       "      <th></th>\n",
       "      <th>response</th>\n",
       "      <th>id</th>\n",
       "    </tr>\n",
       "  </thead>\n",
       "  <tbody>\n",
       "    <tr>\n",
       "      <th>0</th>\n",
       "      <td>0</td>\n",
       "      <td>334399</td>\n",
       "    </tr>\n",
       "    <tr>\n",
       "      <th>1</th>\n",
       "      <td>1</td>\n",
       "      <td>46710</td>\n",
       "    </tr>\n",
       "  </tbody>\n",
       "</table>\n",
       "</div>"
      ],
      "text/plain": [
       "   response      id\n",
       "0         0  334399\n",
       "1         1   46710"
      ]
     },
     "execution_count": 56,
     "metadata": {},
     "output_type": "execute_result"
    }
   ],
   "source": [
    "df_aux = df4[['id', 'response']].groupby('response').count().reset_index()\n",
    "df_aux"
   ]
  },
  {
   "cell_type": "code",
   "execution_count": 58,
   "id": "c5c67741-62e1-49e7-9fe9-d179ded772ae",
   "metadata": {},
   "outputs": [
    {
     "data": {
      "text/plain": [
       "0.12"
      ]
     },
     "execution_count": 58,
     "metadata": {},
     "output_type": "execute_result"
    }
   ],
   "source": [
    "# proporção compradores/total\n",
    "\n",
    "ratio = round(int(df_aux['id'][df_aux['response'] == 1].iloc[0]) / int(df_aux['id'].sum()), 2)\n",
    "ratio"
   ]
  },
  {
   "cell_type": "code",
   "execution_count": 59,
   "id": "3b841b81-a492-417e-addd-33985a82d3be",
   "metadata": {},
   "outputs": [
    {
     "data": {
      "text/plain": [
       "<Axes: xlabel='response', ylabel='id'>"
      ]
     },
     "execution_count": 59,
     "metadata": {},
     "output_type": "execute_result"
    },
    {
     "data": {
      "image/png": "[encoded data removed]",
      "text/plain": [
       "<Figure size 640x480 with 1 Axes>"
      ]
     },
     "metadata": {},
     "output_type": "display_data"
    }
   ],
   "source": [
    "sns.barplot(df_aux, x = 'response', y= 'id')"
   ]
  },
  {
   "cell_type": "markdown",
   "id": "f7f7d081-403e-4671-b3d8-542f60dffe9b",
   "metadata": {},
   "source": [
    "### 4.1.2 Variáveis Numéricas"
   ]
  },
  {
   "cell_type": "code",
   "execution_count": 60,
   "id": "22d4584a-416f-4414-b8b3-2caf6105645b",
   "metadata": {},
   "outputs": [
    {
     "data": {
      "image/png": "[encoded data removed]",
      "text/plain": [
       "<Figure size 640x480 with 9 Axes>"
      ]
     },
     "metadata": {},
     "output_type": "display_data"
    }
   ],
   "source": [
    "df_num.hist();"
   ]
  },
  {
   "cell_type": "markdown",
   "id": "b7723cb8-5873-43a1-81f9-e188c669e19a",
   "metadata": {},
   "source": [
    "### 4.1.3 Variáveis Categóricas"
   ]
  },
  {
   "cell_type": "code",
   "execution_count": 61,
   "id": "dacbe4c9-bb62-4ba3-a964-fa4f496755a6",
   "metadata": {},
   "outputs": [
    {
     "data": {
      "text/plain": [
       "Index(['gender', 'vehicle_age', 'vehicle_damage'], dtype='object')"
      ]
     },
     "execution_count": 61,
     "metadata": {},
     "output_type": "execute_result"
    }
   ],
   "source": [
    "df_cat.columns"
   ]
  },
  {
   "cell_type": "code",
   "execution_count": 62,
   "id": "dc398cab-f096-4995-acc4-424fbbe1bf6f",
   "metadata": {},
   "outputs": [
    {
     "data": {
      "text/plain": [
       "0      Male\n",
       "4    Female\n",
       "Name: gender, dtype: object"
      ]
     },
     "execution_count": 62,
     "metadata": {},
     "output_type": "execute_result"
    }
   ],
   "source": [
    "# valores de gênero\n",
    "df_cat['gender'].drop_duplicates()"
   ]
  },
  {
   "cell_type": "code",
   "execution_count": 63,
   "id": "4e5e5da4-baf1-44e8-b37a-b31aacca1841",
   "metadata": {},
   "outputs": [
    {
     "data": {
      "text/plain": [
       "0    > 2 Years\n",
       "1     1-2 Year\n",
       "3     < 1 Year\n",
       "Name: vehicle_age, dtype: object"
      ]
     },
     "execution_count": 63,
     "metadata": {},
     "output_type": "execute_result"
    }
   ],
   "source": [
    "# valores de idade do veículo\n",
    "df_cat['vehicle_age'].drop_duplicates()"
   ]
  },
  {
   "cell_type": "code",
   "execution_count": 64,
   "id": "46f9ec90-293b-4af0-a2ff-c5c759a05501",
   "metadata": {},
   "outputs": [
    {
     "data": {
      "text/plain": [
       "0    Yes\n",
       "1     No\n",
       "Name: vehicle_damage, dtype: object"
      ]
     },
     "execution_count": 64,
     "metadata": {},
     "output_type": "execute_result"
    }
   ],
   "source": [
    "# valores de dano\n",
    "df_cat['vehicle_damage'].drop_duplicates()"
   ]
  },
  {
   "cell_type": "code",
   "execution_count": 67,
   "id": "e1871b23-d8db-43a3-9025-f10c1e60c5f7",
   "metadata": {},
   "outputs": [
    {
     "data": {
      "text/plain": [
       "<Axes: xlabel='gender', ylabel='count'>"
      ]
     },
     "execution_count": 67,
     "metadata": {},
     "output_type": "execute_result"
    },
    {
     "data": {
      "image/png": "[encoded data removed]",
      "text/plain": [
       "<Figure size 640x480 with 1 Axes>"
      ]
     },
     "metadata": {},
     "output_type": "display_data"
    }
   ],
   "source": [
    "sns.countplot(x=df_cat['gender'])"
   ]
  },
  {
   "cell_type": "code",
   "execution_count": 68,
   "id": "8de9906d-3994-49dd-9dca-2dd1a4ad04c4",
   "metadata": {},
   "outputs": [
    {
     "data": {
      "text/plain": [
       "<Axes: xlabel='vehicle_age', ylabel='count'>"
      ]
     },
     "execution_count": 68,
     "metadata": {},
     "output_type": "execute_result"
    },
    {
     "data": {
      "image/png": "[encoded data removed]",
      "text/plain": [
       "<Figure size 640x480 with 1 Axes>"
      ]
     },
     "metadata": {},
     "output_type": "display_data"
    }
   ],
   "source": [
    "sns.countplot(x=df_cat['vehicle_age'])"
   ]
  },
  {
   "cell_type": "code",
   "execution_count": 69,
   "id": "db0211c6-1a17-45c3-ac94-1f57eafc2c48",
   "metadata": {},
   "outputs": [
    {
     "data": {
      "text/plain": [
       "<Axes: xlabel='vehicle_damage', ylabel='count'>"
      ]
     },
     "execution_count": 69,
     "metadata": {},
     "output_type": "execute_result"
    },
    {
     "data": {
      "image/png": "[encoded data removed]",
      "text/plain": [
       "<Figure size 640x480 with 1 Axes>"
      ]
     },
     "metadata": {},
     "output_type": "display_data"
    }
   ],
   "source": [
    "sns.countplot(x=df_cat['vehicle_damage'])"
   ]
  },
  {
   "cell_type": "code",
   "execution_count": null,
   "id": "a57007b3-fb9a-4557-ad78-ebf86c0786db",
   "metadata": {},
   "outputs": [],
   "source": []
  }
 ],
 "metadata": {
  "kernelspec": {
   "display_name": "PA004",
   "language": "python",
   "name": "pa004"
  },
  "language_info": {
   "codemirror_mode": {
    "name": "ipython",
    "version": 3
   },
   "file_extension": ".py",
   "mimetype": "text/x-python",
   "name": "python",
   "nbconvert_exporter": "python",
   "pygments_lexer": "ipython3",
   "version": "3.13.2"
  }
 },
 "nbformat": 4,
 "nbformat_minor": 5
}
